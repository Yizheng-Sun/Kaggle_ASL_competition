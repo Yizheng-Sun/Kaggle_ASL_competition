{
 "cells": [
  {
   "cell_type": "code",
   "execution_count": 4,
   "metadata": {},
   "outputs": [],
   "source": [
    "import tensorflow as tf"
   ]
  },
  {
   "cell_type": "code",
   "execution_count": 5,
   "metadata": {},
   "outputs": [
    {
     "data": {
      "text/plain": [
       "<PrefetchDataset element_spec=(TensorSpec(shape=(None, 100, 120), dtype=tf.float64, name=None), TensorSpec(shape=(None,), dtype=tf.int32, name=None))>"
      ]
     },
     "execution_count": 5,
     "metadata": {},
     "output_type": "execute_result"
    }
   ],
   "source": [
    "train_ds = tf.data.Dataset.load('asl_train_data')\n",
    "train_batches = train_ds.batch(64).prefetch(buffer_size=tf.data.AUTOTUNE)\n",
    "train_batches"
   ]
  },
  {
   "cell_type": "markdown",
   "metadata": {},
   "source": [
    "Three layers BiLSTM model"
   ]
  },
  {
   "cell_type": "code",
   "execution_count": 6,
   "metadata": {},
   "outputs": [],
   "source": [
    "class aslModel(tf.keras.Model):\n",
    "  def __init__(self):\n",
    "    super().__init__()\n",
    "    self.pre_dense0 = tf.keras.layers.Dense(512)\n",
    "    self.lstm1 = tf.keras.layers.Bidirectional(tf.keras.layers.LSTM(256, return_sequences = True))\n",
    "    self.lstm2 = tf.keras.layers.Bidirectional(tf.keras.layers.LSTM(256, return_sequences = True))\n",
    "    self.lstm3 = tf.keras.layers.Bidirectional(tf.keras.layers.LSTM(256))\n",
    "    self.dense1 = tf.keras.layers.Dense(512)\n",
    "    self.dense2 = tf.keras.layers.Dense(512, activation='relu')\n",
    "    self.final = tf.keras.layers.Dense(250)\n",
    "\n",
    "  def call(self, inputs):\n",
    "    x = self.pre_dense0(inputs)\n",
    "    x = self.lstm1(x)\n",
    "    x = self.lstm2(x)\n",
    "    x = self.lstm3(x)\n",
    "    x = self.dense1(x)\n",
    "    x = self.dense2(x)\n",
    "    x = self.final(x)\n",
    "    return x"
   ]
  },
  {
   "cell_type": "code",
   "execution_count": 7,
   "metadata": {},
   "outputs": [
    {
     "name": "stdout",
     "output_type": "stream",
     "text": [
      "(64,)\n",
      "(64, 250)\n"
     ]
    }
   ],
   "source": [
    "sample_model = aslModel()\n",
    "for (input, target) in train_batches.take(1):\n",
    "    print(target.shape)\n",
    "    out = sample_model(input)\n",
    "    print(out.shape)"
   ]
  },
  {
   "cell_type": "code",
   "execution_count": 20,
   "metadata": {},
   "outputs": [],
   "source": [
    "class CustomSchedule(tf.keras.optimizers.schedules.LearningRateSchedule):\n",
    "  def __init__(self, d_model, warmup_steps=8000):\n",
    "    super().__init__()\n",
    "\n",
    "    self.d_model = d_model\n",
    "    self.d_model = tf.cast(self.d_model, tf.float32)\n",
    "\n",
    "    self.warmup_steps = warmup_steps\n",
    "\n",
    "  def __call__(self, step):\n",
    "    step = tf.cast(step, dtype=tf.float32)\n",
    "    arg1 = tf.math.rsqrt(step)\n",
    "    arg2 = step * (self.warmup_steps ** -1.5)\n",
    "\n",
    "    return tf.math.rsqrt(self.d_model) * tf.math.minimum(arg1, arg2)\n",
    "\n",
    "learning_rate = CustomSchedule(1024)\n",
    "\n",
    "optimizer = tf.keras.optimizers.Adam(learning_rate, beta_1=0.9, beta_2=0.98,\n",
    "                                     epsilon=1e-9)\n"
   ]
  },
  {
   "cell_type": "code",
   "execution_count": 21,
   "metadata": {},
   "outputs": [],
   "source": [
    "model = aslModel()\n",
    "model.compile(loss=tf.keras.losses.SparseCategoricalCrossentropy(from_logits=True),\n",
    "              optimizer=optimizer,\n",
    "              metrics=['accuracy'])"
   ]
  },
  {
   "cell_type": "code",
   "execution_count": 22,
   "metadata": {},
   "outputs": [
    {
     "name": "stdout",
     "output_type": "stream",
     "text": [
      "Epoch 1/10\n"
     ]
    },
    {
     "name": "stderr",
     "output_type": "stream",
     "text": [
      "2023-04-02 20:29:16.762826: I tensorflow/core/grappler/optimizers/custom_graph_optimizer_registry.cc:114] Plugin optimizer for device_type GPU is enabled.\n",
      "2023-04-02 20:29:17.361618: I tensorflow/core/grappler/optimizers/custom_graph_optimizer_registry.cc:114] Plugin optimizer for device_type GPU is enabled.\n",
      "2023-04-02 20:29:17.379896: I tensorflow/core/grappler/optimizers/custom_graph_optimizer_registry.cc:114] Plugin optimizer for device_type GPU is enabled.\n",
      "2023-04-02 20:29:17.630822: I tensorflow/core/grappler/optimizers/custom_graph_optimizer_registry.cc:114] Plugin optimizer for device_type GPU is enabled.\n",
      "2023-04-02 20:29:17.648536: I tensorflow/core/grappler/optimizers/custom_graph_optimizer_registry.cc:114] Plugin optimizer for device_type GPU is enabled.\n",
      "2023-04-02 20:29:17.877781: I tensorflow/core/grappler/optimizers/custom_graph_optimizer_registry.cc:114] Plugin optimizer for device_type GPU is enabled.\n",
      "2023-04-02 20:29:17.894337: I tensorflow/core/grappler/optimizers/custom_graph_optimizer_registry.cc:114] Plugin optimizer for device_type GPU is enabled.\n",
      "2023-04-02 20:29:18.150378: I tensorflow/core/grappler/optimizers/custom_graph_optimizer_registry.cc:114] Plugin optimizer for device_type GPU is enabled.\n",
      "2023-04-02 20:29:18.177323: I tensorflow/core/grappler/optimizers/custom_graph_optimizer_registry.cc:114] Plugin optimizer for device_type GPU is enabled.\n",
      "2023-04-02 20:29:18.571550: I tensorflow/core/grappler/optimizers/custom_graph_optimizer_registry.cc:114] Plugin optimizer for device_type GPU is enabled.\n",
      "2023-04-02 20:29:18.598683: I tensorflow/core/grappler/optimizers/custom_graph_optimizer_registry.cc:114] Plugin optimizer for device_type GPU is enabled.\n",
      "2023-04-02 20:29:18.990295: I tensorflow/core/grappler/optimizers/custom_graph_optimizer_registry.cc:114] Plugin optimizer for device_type GPU is enabled.\n",
      "2023-04-02 20:29:19.017398: I tensorflow/core/grappler/optimizers/custom_graph_optimizer_registry.cc:114] Plugin optimizer for device_type GPU is enabled.\n"
     ]
    },
    {
     "name": "stdout",
     "output_type": "stream",
     "text": [
      "1344/1344 [==============================] - 219s 158ms/step - loss: 5.5190 - accuracy: 0.0042\n",
      "Epoch 2/10\n",
      "1344/1344 [==============================] - 210s 156ms/step - loss: 5.3469 - accuracy: 0.0112\n",
      "Epoch 3/10\n",
      "1344/1344 [==============================] - 213s 158ms/step - loss: 5.0549 - accuracy: 0.0289\n",
      "Epoch 4/10\n",
      "1344/1344 [==============================] - 208s 155ms/step - loss: 4.8163 - accuracy: 0.0534\n",
      "Epoch 5/10\n",
      "1344/1344 [==============================] - 209s 155ms/step - loss: 4.5960 - accuracy: 0.0839\n",
      "Epoch 6/10\n",
      "1344/1344 [==============================] - 209s 156ms/step - loss: 4.4160 - accuracy: 0.1175\n",
      "Epoch 7/10\n",
      "1344/1344 [==============================] - 207s 154ms/step - loss: 4.2677 - accuracy: 0.1454\n",
      "Epoch 8/10\n",
      "1344/1344 [==============================] - 207s 154ms/step - loss: 4.1135 - accuracy: 0.1788\n",
      "Epoch 9/10\n",
      "1344/1344 [==============================] - 208s 154ms/step - loss: 3.9840 - accuracy: 0.2052\n",
      "Epoch 10/10\n",
      "1344/1344 [==============================] - 208s 155ms/step - loss: 3.8781 - accuracy: 0.2287\n"
     ]
    },
    {
     "data": {
      "text/plain": [
       "<keras.callbacks.History at 0x326e64f70>"
      ]
     },
     "execution_count": 22,
     "metadata": {},
     "output_type": "execute_result"
    }
   ],
   "source": [
    "model.fit(train_batches, epochs=10)"
   ]
  },
  {
   "cell_type": "code",
   "execution_count": 23,
   "metadata": {},
   "outputs": [
    {
     "name": "stdout",
     "output_type": "stream",
     "text": [
      "Epoch 1/10\n",
      "1344/1344 [==============================] - 211s 157ms/step - loss: 3.7873 - accuracy: 0.2490\n",
      "Epoch 2/10\n",
      "1344/1344 [==============================] - 208s 155ms/step - loss: 3.7158 - accuracy: 0.2649\n",
      "Epoch 3/10\n",
      "1344/1344 [==============================] - 207s 154ms/step - loss: 3.6453 - accuracy: 0.2812\n",
      "Epoch 4/10\n",
      "1344/1344 [==============================] - 207s 154ms/step - loss: 3.5957 - accuracy: 0.2933\n",
      "Epoch 5/10\n",
      "1344/1344 [==============================] - 207s 154ms/step - loss: 3.5271 - accuracy: 0.3098\n",
      "Epoch 6/10\n",
      "1344/1344 [==============================] - 210s 157ms/step - loss: 3.4887 - accuracy: 0.3183\n",
      "Epoch 7/10\n",
      "1344/1344 [==============================] - 211s 157ms/step - loss: 3.4332 - accuracy: 0.3324\n",
      "Epoch 8/10\n",
      "1344/1344 [==============================] - 211s 157ms/step - loss: 3.3944 - accuracy: 0.3424\n",
      "Epoch 9/10\n",
      "1344/1344 [==============================] - 210s 156ms/step - loss: 3.3527 - accuracy: 0.3533\n",
      "Epoch 10/10\n",
      "1344/1344 [==============================] - 211s 157ms/step - loss: 3.3189 - accuracy: 0.3614\n"
     ]
    },
    {
     "data": {
      "text/plain": [
       "<keras.callbacks.History at 0x326e962f0>"
      ]
     },
     "execution_count": 23,
     "metadata": {},
     "output_type": "execute_result"
    }
   ],
   "source": [
    "model.fit(train_batches, epochs=10)"
   ]
  }
 ],
 "metadata": {
  "kernelspec": {
   "display_name": "Python 3.10.8 ('simvlm')",
   "language": "python",
   "name": "python3"
  },
  "language_info": {
   "codemirror_mode": {
    "name": "ipython",
    "version": 3
   },
   "file_extension": ".py",
   "mimetype": "text/x-python",
   "name": "python",
   "nbconvert_exporter": "python",
   "pygments_lexer": "ipython3",
   "version": "3.10.8"
  },
  "orig_nbformat": 4,
  "vscode": {
   "interpreter": {
    "hash": "6de52dce80c3226d28e1cb258147f244f155ae69bf9dea3d4ab87b9aa038f5fe"
   }
  }
 },
 "nbformat": 4,
 "nbformat_minor": 2
}
